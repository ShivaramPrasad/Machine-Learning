{
 "cells": [
  {
   "cell_type": "code",
   "execution_count": 8,
   "metadata": {
    "nbpresent": {
     "id": "161b52fd-5493-416a-9268-ae218a3f35d3"
    }
   },
   "outputs": [],
   "source": [
    "import tensorflow as tf\n",
    "import matplotlib.pyplot as plt\n",
    "%matplotlib inline\n",
    "import numpy as np\n",
    "learn = tf.contrib.learn\n",
    "tf.logging.set_verbosity(tf.logging.INFO)"
   ]
  },
  {
   "cell_type": "code",
   "execution_count": 10,
   "metadata": {
    "nbpresent": {
     "id": "56907ddb-f92e-46e8-bde0-0c780e32ea78"
    }
   },
   "outputs": [
    {
     "name": "stdout",
     "output_type": "stream",
     "text": [
      "Extracting MNIST-data/train-images-idx3-ubyte.gz\n",
      "Extracting MNIST-data/train-labels-idx1-ubyte.gz\n",
      "Extracting MNIST-data/t10k-images-idx3-ubyte.gz\n",
      "Extracting MNIST-data/t10k-labels-idx1-ubyte.gz\n"
     ]
    }
   ],
   "source": [
    "#loading the Data_sets from mnist\n",
    "mnist = learn.datasets.load_dataset(\"mnist\")\n",
    "#separating data's as training and testing \n",
    "train_data = mnist.train.images\n",
    "train_label = np.asarray(mnist.train.labels, dtype=np.int32)\n",
    "test_data = mnist.test.images\n",
    "test_label = np.asarray(mnist.test.labels, dtype=np.int32)"
   ]
  },
  {
   "cell_type": "code",
   "execution_count": 17,
   "metadata": {
    "nbpresent": {
     "id": "27d9f21f-590e-45cf-bac7-c3ecd03aee78"
    }
   },
   "outputs": [
    {
     "name": "stdout",
     "output_type": "stream",
     "text": [
      "784\n"
     ]
    }
   ],
   "source": [
    "min_examples = 10000\n",
    "data = train_data[:min_examples]\n",
    "label = train_label[:min_examples]\n",
    "print(len(data[0]))"
   ]
  },
  {
   "cell_type": "code",
   "execution_count": 93,
   "metadata": {
    "nbpresent": {
     "id": "57d1e4c0-4472-4f09-8d31-37dd8dd2559d"
    }
   },
   "outputs": [],
   "source": [
    "def display(i):\n",
    "    img = test_data[i]\n",
    "    plt.title(\"Example: {} , Label: {}\".format(i, test_label[i]))\n",
    "    plt.imshow(img.reshape(28,28), cmap = plt.cm.gray_r)"
   ]
  },
  {
   "cell_type": "code",
   "execution_count": 94,
   "metadata": {
    "nbpresent": {
     "id": "78016a9f-8491-4ee1-9858-2b8b6ac31bc7"
    }
   },
   "outputs": [
    {
     "data": {
      "image/png": "[encoded data removed]",
      "text/plain": [
       "<Figure size 432x288 with 1 Axes>"
      ]
     },
     "metadata": {},
     "output_type": "display_data"
    }
   ],
   "source": [
    "display(0)"
   ]
  },
  {
   "cell_type": "code",
   "execution_count": 95,
   "metadata": {
    "nbpresent": {
     "id": "f4b6e865-e645-4975-bf29-6e3a04ea5cd8"
    }
   },
   "outputs": [
    {
     "data": {
      "image/png": "[encoded data removed]",
      "text/plain": [
       "<Figure size 432x288 with 1 Axes>"
      ]
     },
     "metadata": {},
     "output_type": "display_data"
    }
   ],
   "source": [
    "display(1)"
   ]
  },
  {
   "cell_type": "code",
   "execution_count": 29,
   "metadata": {
    "nbpresent": {
     "id": "398d1233-35af-416a-821a-68415430ed1d"
    }
   },
   "outputs": [
    {
     "data": {
      "image/png": "[encoded data removed]",
      "text/plain": [
       "<Figure size 432x288 with 1 Axes>"
      ]
     },
     "metadata": {},
     "output_type": "display_data"
    }
   ],
   "source": [
    "display(8)"
   ]
  },
  {
   "cell_type": "code",
   "execution_count": 116,
   "metadata": {
    "nbpresent": {
     "id": "4af92435-a70b-49ea-b8c9-ba5df090b64b"
    },
    "scrolled": true
   },
   "outputs": [
    {
     "name": "stdout",
     "output_type": "stream",
     "text": [
      "INFO:tensorflow:Using default config.\n",
      "WARNING:tensorflow:Using temporary folder as model directory: /tmp/tmptKE6no\n",
      "INFO:tensorflow:Using config: {'_save_checkpoints_secs': 600, '_num_ps_replicas': 0, '_keep_checkpoint_max': 5, '_task_type': None, '_is_chief': True, '_cluster_spec': <tensorflow.python.training.server_lib.ClusterSpec object at 0x7f2ae6070f90>, '_model_dir': '/tmp/tmptKE6no', '_save_checkpoints_steps': None, '_keep_checkpoint_every_n_hours': 10000, '_session_config': None, '_tf_random_seed': None, '_save_summary_steps': 100, '_environment': 'local', '_num_worker_replicas': 0, '_task_id': 0, '_log_step_count_steps': 100, '_tf_config': gpu_options {\n",
      "  per_process_gpu_memory_fraction: 1.0\n",
      "}\n",
      ", '_evaluation_master': '', '_master': ''}\n",
      "INFO:tensorflow:Create CheckpointSaverHook.\n",
      "INFO:tensorflow:Saving checkpoints for 1 into /tmp/tmptKE6no/model.ckpt.\n",
      "INFO:tensorflow:loss = 2.3025854, step = 1\n",
      "INFO:tensorflow:global_step/sec: 174.02\n",
      "INFO:tensorflow:loss = 0.3614456, step = 101 (0.577 sec)\n",
      "INFO:tensorflow:global_step/sec: 339.991\n",
      "INFO:tensorflow:loss = 0.4143284, step = 201 (0.296 sec)\n",
      "INFO:tensorflow:global_step/sec: 373.825\n",
      "INFO:tensorflow:loss = 0.35897812, step = 301 (0.268 sec)\n",
      "INFO:tensorflow:global_step/sec: 345.817\n",
      "INFO:tensorflow:loss = 0.35178864, step = 401 (0.287 sec)\n",
      "INFO:tensorflow:global_step/sec: 327.55\n",
      "INFO:tensorflow:loss = 0.27867654, step = 501 (0.305 sec)\n",
      "INFO:tensorflow:global_step/sec: 361.817\n",
      "INFO:tensorflow:loss = 0.30870673, step = 601 (0.276 sec)\n",
      "INFO:tensorflow:global_step/sec: 359.832\n",
      "INFO:tensorflow:loss = 0.3171746, step = 701 (0.278 sec)\n",
      "INFO:tensorflow:global_step/sec: 220.291\n",
      "INFO:tensorflow:loss = 0.22564411, step = 801 (0.456 sec)\n",
      "INFO:tensorflow:global_step/sec: 314.797\n",
      "INFO:tensorflow:loss = 0.2903623, step = 901 (0.315 sec)\n",
      "INFO:tensorflow:Saving checkpoints for 1000 into /tmp/tmptKE6no/model.ckpt.\n",
      "INFO:tensorflow:Loss for final step: 0.3058589.\n"
     ]
    },
    {
     "data": {
      "text/plain": [
       "LinearClassifier(params={'gradient_clip_norm': None, 'head': <tensorflow.contrib.learn.python.learn.estimators.head._MultiClassHead object at 0x7f2ae65add10>, 'joint_weights': False, 'optimizer': None, 'feature_columns': [_RealValuedColumn(column_name='', dimension=784, default_value=None, dtype=tf.float32, normalizer=None)]})"
      ]
     },
     "execution_count": 116,
     "metadata": {},
     "output_type": "execute_result"
    }
   ],
   "source": [
    "#well start with a simple classifier\n",
    "feature_columns = learn.infer_real_valued_columns_from_input(data)\n",
    "classifier = learn.LinearClassifier(n_classes=10, feature_columns= feature_columns)\n",
    "#gradientDescent and all the weights are handled by this fit method underthehood\n",
    "classifier.fit(data, label, batch_size = 100, steps = 1000)"
   ]
  },
  {
   "cell_type": "code",
   "execution_count": 80,
   "metadata": {
    "nbpresent": {
     "id": "fb1087b1-956d-4e76-a13c-8707a381a501"
    }
   },
   "outputs": [
    {
     "name": "stdout",
     "output_type": "stream",
     "text": [
      "INFO:tensorflow:Starting evaluation at 2018-03-18-02:44:48\n",
      "INFO:tensorflow:Restoring parameters from /tmp/tmp7c3IpV/model.ckpt-1000\n",
      "INFO:tensorflow:Finished evaluation at 2018-03-18-02:44:49\n",
      "INFO:tensorflow:Saving dict for global step 1000: accuracy = 0.9137, global_step = 1000, loss = 0.31026527\n",
      "INFO:tensorflow:Starting evaluation at 2018-03-18-02:44:49\n",
      "INFO:tensorflow:Restoring parameters from /tmp/tmp7c3IpV/model.ckpt-1000\n",
      "INFO:tensorflow:Finished evaluation at 2018-03-18-02:44:49\n",
      "INFO:tensorflow:Saving dict for global step 1000: accuracy = 0.9137, global_step = 1000, loss = 0.31026527\n",
      "0.9137\n"
     ]
    }
   ],
   "source": [
    "#Testing our model once trained\n",
    "classifier.evaluate(test_data, test_label)\n",
    "# we achieved 91% of accurcay for our model      \n",
    "print classifier.evaluate(test_data, test_label)['accuracy']                                      "
   ]
  },
  {
   "cell_type": "code",
   "execution_count": 89,
   "metadata": {
    "nbpresent": {
     "id": "18099263-c70b-4810-b86b-dc3cacd2efd1"
    }
   },
   "outputs": [],
   "source": [
    "#once get's right time to explore the model\n",
    "def testing(n):\n",
    "    new_samples = np.array([test_data[n]], dtype=int) \n",
    "    y = list(classifier.predict(new_samples, as_iterable=True)) \n",
    "    print(\"Predicted {0}, Label: {1}\".format(str(y), test_label[n]))\n",
    "    display(n)"
   ]
  },
  {
   "cell_type": "code",
   "execution_count": 117,
   "metadata": {},
   "outputs": [
    {
     "name": "stdout",
     "output_type": "stream",
     "text": [
      "INFO:tensorflow:Restoring parameters from /tmp/tmptKE6no/model.ckpt-1000\n",
      "Predicted [5], Label: 1\n"
     ]
    },
    {
     "data": {
      "image/png": "[encoded data removed]",
      "text/plain": [
       "<Figure size 432x288 with 1 Axes>"
      ]
     },
     "metadata": {},
     "output_type": "display_data"
    }
   ],
   "source": [
    "testing(5)"
   ]
  },
  {
   "cell_type": "code",
   "execution_count": 98,
   "metadata": {},
   "outputs": [
    {
     "name": "stdout",
     "output_type": "stream",
     "text": [
      "INFO:tensorflow:Restoring parameters from /tmp/tmpNesTiB/model.ckpt-1000\n",
      "Predicted [5], Label: 5\n"
     ]
    },
    {
     "data": {
      "image/png": "[encoded data removed]",
      "text/plain": [
       "<Figure size 432x288 with 1 Axes>"
      ]
     },
     "metadata": {},
     "output_type": "display_data"
    }
   ],
   "source": [
    "testing(8)"
   ]
  },
  {
   "cell_type": "code",
   "execution_count": 100,
   "metadata": {},
   "outputs": [
    {
     "name": "stdout",
     "output_type": "stream",
     "text": [
      "INFO:tensorflow:Restoring parameters from /tmp/tmpNesTiB/model.ckpt-1000\n",
      "Predicted [5], Label: 2\n"
     ]
    },
    {
     "data": {
      "image/png": "[encoded data removed]",
      "text/plain": [
       "<Figure size 432x288 with 1 Axes>"
      ]
     },
     "metadata": {},
     "output_type": "display_data"
    }
   ],
   "source": [
    "testing(1)"
   ]
  },
  {
   "cell_type": "code",
   "execution_count": 124,
   "metadata": {},
   "outputs": [
    {
     "ename": "ValueError",
     "evalue": "Illegal argument(s) to subplot: (2, 5)",
     "output_type": "error",
     "traceback": [
      "\u001b[0;31m---------------------------------------------------------------------------\u001b[0m",
      "\u001b[0;31mValueError\u001b[0m                                Traceback (most recent call last)",
      "\u001b[0;32m<ipython-input-124-be8ed29a3722>\u001b[0m in \u001b[0;36m<module>\u001b[0;34m()\u001b[0m\n\u001b[1;32m      1\u001b[0m \u001b[0;31m#Visualizing learned weights\u001b[0m\u001b[0;34m\u001b[0m\u001b[0;34m\u001b[0m\u001b[0m\n\u001b[1;32m      2\u001b[0m \u001b[0mweights\u001b[0m  \u001b[0;34m=\u001b[0m \u001b[0mnp\u001b[0m\u001b[0;34m.\u001b[0m\u001b[0mrandom\u001b[0m\u001b[0;34m.\u001b[0m\u001b[0mrand\u001b[0m\u001b[0;34m(\u001b[0m\u001b[0;36m50\u001b[0m\u001b[0;34m)\u001b[0m\u001b[0;34m\u001b[0m\u001b[0m\n\u001b[0;32m----> 3\u001b[0;31m \u001b[0mf\u001b[0m\u001b[0;34m,\u001b[0m \u001b[0maxes\u001b[0m \u001b[0;34m=\u001b[0m \u001b[0mplt\u001b[0m\u001b[0;34m.\u001b[0m\u001b[0msubplot\u001b[0m\u001b[0;34m(\u001b[0m\u001b[0;36m2\u001b[0m\u001b[0;34m,\u001b[0m \u001b[0;36m5\u001b[0m\u001b[0;34m,\u001b[0m \u001b[0mfigsize\u001b[0m\u001b[0;34m=\u001b[0m\u001b[0;34m(\u001b[0m\u001b[0;36m10\u001b[0m\u001b[0;34m,\u001b[0m\u001b[0;36m4\u001b[0m\u001b[0;34m)\u001b[0m\u001b[0;34m)\u001b[0m\u001b[0;34m\u001b[0m\u001b[0m\n\u001b[0m\u001b[1;32m      4\u001b[0m \u001b[0maxes\u001b[0m \u001b[0;34m=\u001b[0m \u001b[0maxes\u001b[0m\u001b[0;34m.\u001b[0m\u001b[0mreshape\u001b[0m\u001b[0;34m(\u001b[0m\u001b[0;34m-\u001b[0m\u001b[0;36m1\u001b[0m\u001b[0;34m)\u001b[0m\u001b[0;34m\u001b[0m\u001b[0m\n\u001b[1;32m      5\u001b[0m \u001b[0;32mfor\u001b[0m \u001b[0mi\u001b[0m \u001b[0;32min\u001b[0m \u001b[0mrange\u001b[0m\u001b[0;34m(\u001b[0m\u001b[0mlen\u001b[0m\u001b[0;34m(\u001b[0m\u001b[0maxes\u001b[0m\u001b[0;34m)\u001b[0m\u001b[0;34m)\u001b[0m\u001b[0;34m:\u001b[0m\u001b[0;34m\u001b[0m\u001b[0m\n",
      "\u001b[0;32m/home/shiva/anaconda2/envs/tensorflow/lib/python2.7/site-packages/matplotlib/pyplot.pyc\u001b[0m in \u001b[0;36msubplot\u001b[0;34m(*args, **kwargs)\u001b[0m\n\u001b[1;32m   1070\u001b[0m \u001b[0;34m\u001b[0m\u001b[0m\n\u001b[1;32m   1071\u001b[0m     \u001b[0mfig\u001b[0m \u001b[0;34m=\u001b[0m \u001b[0mgcf\u001b[0m\u001b[0;34m(\u001b[0m\u001b[0;34m)\u001b[0m\u001b[0;34m\u001b[0m\u001b[0m\n\u001b[0;32m-> 1072\u001b[0;31m     \u001b[0ma\u001b[0m \u001b[0;34m=\u001b[0m \u001b[0mfig\u001b[0m\u001b[0;34m.\u001b[0m\u001b[0madd_subplot\u001b[0m\u001b[0;34m(\u001b[0m\u001b[0;34m*\u001b[0m\u001b[0margs\u001b[0m\u001b[0;34m,\u001b[0m \u001b[0;34m**\u001b[0m\u001b[0mkwargs\u001b[0m\u001b[0;34m)\u001b[0m\u001b[0;34m\u001b[0m\u001b[0m\n\u001b[0m\u001b[1;32m   1073\u001b[0m     \u001b[0mbbox\u001b[0m \u001b[0;34m=\u001b[0m \u001b[0ma\u001b[0m\u001b[0;34m.\u001b[0m\u001b[0mbbox\u001b[0m\u001b[0;34m\u001b[0m\u001b[0m\n\u001b[1;32m   1074\u001b[0m     \u001b[0mbyebye\u001b[0m \u001b[0;34m=\u001b[0m \u001b[0;34m[\u001b[0m\u001b[0;34m]\u001b[0m\u001b[0;34m\u001b[0m\u001b[0m\n",
      "\u001b[0;32m/home/shiva/anaconda2/envs/tensorflow/lib/python2.7/site-packages/matplotlib/figure.pyc\u001b[0m in \u001b[0;36madd_subplot\u001b[0;34m(self, *args, **kwargs)\u001b[0m\n\u001b[1;32m   1237\u001b[0m                     \u001b[0mself\u001b[0m\u001b[0;34m.\u001b[0m\u001b[0m_axstack\u001b[0m\u001b[0;34m.\u001b[0m\u001b[0mremove\u001b[0m\u001b[0;34m(\u001b[0m\u001b[0max\u001b[0m\u001b[0;34m)\u001b[0m\u001b[0;34m\u001b[0m\u001b[0m\n\u001b[1;32m   1238\u001b[0m \u001b[0;34m\u001b[0m\u001b[0m\n\u001b[0;32m-> 1239\u001b[0;31m             \u001b[0ma\u001b[0m \u001b[0;34m=\u001b[0m \u001b[0msubplot_class_factory\u001b[0m\u001b[0;34m(\u001b[0m\u001b[0mprojection_class\u001b[0m\u001b[0;34m)\u001b[0m\u001b[0;34m(\u001b[0m\u001b[0mself\u001b[0m\u001b[0;34m,\u001b[0m \u001b[0;34m*\u001b[0m\u001b[0margs\u001b[0m\u001b[0;34m,\u001b[0m \u001b[0;34m**\u001b[0m\u001b[0mkwargs\u001b[0m\u001b[0;34m)\u001b[0m\u001b[0;34m\u001b[0m\u001b[0m\n\u001b[0m\u001b[1;32m   1240\u001b[0m         \u001b[0mself\u001b[0m\u001b[0;34m.\u001b[0m\u001b[0m_axstack\u001b[0m\u001b[0;34m.\u001b[0m\u001b[0madd\u001b[0m\u001b[0;34m(\u001b[0m\u001b[0mkey\u001b[0m\u001b[0;34m,\u001b[0m \u001b[0ma\u001b[0m\u001b[0;34m)\u001b[0m\u001b[0;34m\u001b[0m\u001b[0m\n\u001b[1;32m   1241\u001b[0m         \u001b[0mself\u001b[0m\u001b[0;34m.\u001b[0m\u001b[0msca\u001b[0m\u001b[0;34m(\u001b[0m\u001b[0ma\u001b[0m\u001b[0;34m)\u001b[0m\u001b[0;34m\u001b[0m\u001b[0m\n",
      "\u001b[0;32m/home/shiva/anaconda2/envs/tensorflow/lib/python2.7/site-packages/matplotlib/axes/_subplots.pyc\u001b[0m in \u001b[0;36m__init__\u001b[0;34m(self, fig, *args, **kwargs)\u001b[0m\n\u001b[1;32m     70\u001b[0m                 \u001b[0;31m# num - 1 for converting from MATLAB to python indexing\u001b[0m\u001b[0;34m\u001b[0m\u001b[0;34m\u001b[0m\u001b[0m\n\u001b[1;32m     71\u001b[0m         \u001b[0;32melse\u001b[0m\u001b[0;34m:\u001b[0m\u001b[0;34m\u001b[0m\u001b[0m\n\u001b[0;32m---> 72\u001b[0;31m             \u001b[0;32mraise\u001b[0m \u001b[0mValueError\u001b[0m\u001b[0;34m(\u001b[0m\u001b[0;34m'Illegal argument(s) to subplot: %s'\u001b[0m \u001b[0;34m%\u001b[0m \u001b[0;34m(\u001b[0m\u001b[0margs\u001b[0m\u001b[0;34m,\u001b[0m\u001b[0;34m)\u001b[0m\u001b[0;34m)\u001b[0m\u001b[0;34m\u001b[0m\u001b[0m\n\u001b[0m\u001b[1;32m     73\u001b[0m \u001b[0;34m\u001b[0m\u001b[0m\n\u001b[1;32m     74\u001b[0m         \u001b[0mself\u001b[0m\u001b[0;34m.\u001b[0m\u001b[0mupdate_params\u001b[0m\u001b[0;34m(\u001b[0m\u001b[0;34m)\u001b[0m\u001b[0;34m\u001b[0m\u001b[0m\n",
      "\u001b[0;31mValueError\u001b[0m: Illegal argument(s) to subplot: (2, 5)"
     ]
    },
    {
     "data": {
      "text/plain": [
       "<Figure size 432x288 with 0 Axes>"
      ]
     },
     "metadata": {},
     "output_type": "display_data"
    }
   ],
   "source": [
    "#Visualizing learned weights\n",
    "weights  = classifier.weights_\n",
    "f, axes = plt.subplot(2, 5, figsize=(10,4))\n",
    "axes = axes.reshape(-1)\n",
    "for i in range(len(axes)):\n",
    "    a = axes[i]\n",
    "    a.imshow(weights.T[i].reshape(28,28), cmap = plt.cm.seismic)\n",
    "    a.set_title(i)\n",
    "    a.set_xticks(())\n",
    "    a.set_yticks(())\n",
    "plt.show()"
   ]
  }
 ],
 "metadata": {
  "kernelspec": {
   "display_name": "Python [conda env:tensorflow]",
   "language": "python",
   "name": "conda-env-tensorflow-py"
  },
  "language_info": {
   "codemirror_mode": {
    "name": "ipython",
    "version": 2
   },
   "file_extension": ".py",
   "mimetype": "text/x-python",
   "name": "python",
   "nbconvert_exporter": "python",
   "pygments_lexer": "ipython2",
   "version": "2.7.14"
  },
  "nbpresent": {
   "slides": {
    "01dc408f-9077-482b-8f10-9eb2ab2a7591": {
     "id": "01dc408f-9077-482b-8f10-9eb2ab2a7591",
     "prev": "119293d3-cd80-44dd-a23f-f816d3cf6825",
     "regions": {
      "f53f6c2d-0276-42de-929e-46fdfe753253": {
       "attrs": {
        "height": 0.8,
        "width": 0.8,
        "x": 0.1,
        "y": 0.1
       },
       "content": {
        "cell": "f4b6e865-e645-4975-bf29-6e3a04ea5cd8",
        "part": "whole"
       },
       "id": "f53f6c2d-0276-42de-929e-46fdfe753253"
      }
     }
    },
    "0a429f9e-18fe-48e8-9f3b-629d0cab76fc": {
     "id": "0a429f9e-18fe-48e8-9f3b-629d0cab76fc",
     "prev": "b0e1461d-c0b7-4232-893d-c376cfeb47ed",
     "regions": {
      "f4529629-82fb-4056-af51-7595f7fdecca": {
       "attrs": {
        "height": 0.8,
        "width": 0.8,
        "x": 0.1,
        "y": 0.1
       },
       "content": {
        "cell": "fb1087b1-956d-4e76-a13c-8707a381a501",
        "part": "whole"
       },
       "id": "f4529629-82fb-4056-af51-7595f7fdecca"
      }
     }
    },
    "119293d3-cd80-44dd-a23f-f816d3cf6825": {
     "id": "119293d3-cd80-44dd-a23f-f816d3cf6825",
     "prev": "6a470985-dcb8-410e-8704-23f5a378ded4",
     "regions": {
      "d2405c16-ea8d-4fff-b9a4-a543e0566f53": {
       "attrs": {
        "height": 0.8,
        "width": 0.8,
        "x": 0.1,
        "y": 0.1
       },
       "content": {
        "cell": "78016a9f-8491-4ee1-9858-2b8b6ac31bc7",
        "part": "whole"
       },
       "id": "d2405c16-ea8d-4fff-b9a4-a543e0566f53"
      }
     }
    },
    "278d952f-f586-4231-a5f5-2f1e81dcff04": {
     "id": "278d952f-f586-4231-a5f5-2f1e81dcff04",
     "prev": "a54ab306-6ca7-4493-95fa-58a6049bd132",
     "regions": {
      "2462abb5-bdf1-42be-b6bd-92f6e99b8ffd": {
       "attrs": {
        "height": 0.8,
        "width": 0.8,
        "x": 0.1,
        "y": 0.1
       },
       "content": {
        "cell": "56907ddb-f92e-46e8-bde0-0c780e32ea78",
        "part": "whole"
       },
       "id": "2462abb5-bdf1-42be-b6bd-92f6e99b8ffd"
      }
     }
    },
    "2af965c0-af3a-4fc0-b98c-c371bff715b7": {
     "id": "2af965c0-af3a-4fc0-b98c-c371bff715b7",
     "prev": "fa4d2a41-4a1d-4578-9ca0-e1ff065f914a",
     "regions": {
      "cedf9435-8ece-463d-aefe-deeb27acb150": {
       "attrs": {
        "height": 0.8,
        "width": 0.8,
        "x": 0.1,
        "y": 0.1
       },
       "content": {
        "cell": "398d1233-35af-416a-821a-68415430ed1d",
        "part": "whole"
       },
       "id": "cedf9435-8ece-463d-aefe-deeb27acb150"
      }
     }
    },
    "32c31304-85df-4576-831a-136df43a0d0e": {
     "id": "32c31304-85df-4576-831a-136df43a0d0e",
     "prev": "d68dd2c6-915b-437b-97d5-6e33d0712450",
     "regions": {
      "d909fc19-41d2-4520-af0e-43c228003491": {
       "attrs": {
        "height": 0.8,
        "width": 0.8,
        "x": 0.1,
        "y": 0.1
       },
       "content": {
        "cell": "fb1087b1-956d-4e76-a13c-8707a381a501",
        "part": "whole"
       },
       "id": "d909fc19-41d2-4520-af0e-43c228003491"
      }
     }
    },
    "3864df4f-f448-4831-8569-f6ea06315822": {
     "id": "3864df4f-f448-4831-8569-f6ea06315822",
     "prev": null,
     "regions": {
      "75687fb9-4224-4bcb-8ae3-306724b320fc": {
       "attrs": {
        "height": 0.8,
        "width": 0.8,
        "x": 0.1,
        "y": 0.1
       },
       "content": {
        "cell": "161b52fd-5493-416a-9268-ae218a3f35d3",
        "part": "whole"
       },
       "id": "75687fb9-4224-4bcb-8ae3-306724b320fc"
      }
     }
    },
    "51cc14a7-6ef0-4602-8b5d-1096bbdc5f6b": {
     "id": "51cc14a7-6ef0-4602-8b5d-1096bbdc5f6b",
     "prev": "32c31304-85df-4576-831a-136df43a0d0e",
     "regions": {
      "494705cd-1012-4963-ab45-40bdb4614fb8": {
       "attrs": {
        "height": 0.8,
        "width": 0.8,
        "x": 0.1,
        "y": 0.1
       },
       "content": {
        "cell": "18099263-c70b-4810-b86b-dc3cacd2efd1",
        "part": "whole"
       },
       "id": "494705cd-1012-4963-ab45-40bdb4614fb8"
      }
     }
    },
    "5369b156-2006-4e60-87b5-b94885b2268d": {
     "id": "5369b156-2006-4e60-87b5-b94885b2268d",
     "prev": "fef5fda3-ba68-4c7c-bfde-91aa4a2f577d",
     "regions": {
      "6a7c2efd-b05e-406e-a93d-6a13b158074c": {
       "attrs": {
        "height": 0.8,
        "width": 0.8,
        "x": 0.1,
        "y": 0.1
       },
       "content": {
        "cell": "27d9f21f-590e-45cf-bac7-c3ecd03aee78",
        "part": "whole"
       },
       "id": "6a7c2efd-b05e-406e-a93d-6a13b158074c"
      }
     }
    },
    "6a470985-dcb8-410e-8704-23f5a378ded4": {
     "id": "6a470985-dcb8-410e-8704-23f5a378ded4",
     "prev": "5369b156-2006-4e60-87b5-b94885b2268d",
     "regions": {
      "310df8a6-8309-474b-a336-3857eea4b169": {
       "attrs": {
        "height": 0.8,
        "width": 0.8,
        "x": 0.1,
        "y": 0.1
       },
       "content": {
        "cell": "57d1e4c0-4472-4f09-8d31-37dd8dd2559d",
        "part": "whole"
       },
       "id": "310df8a6-8309-474b-a336-3857eea4b169"
      }
     }
    },
    "6a4bc918-3601-481d-8c6c-60ca7dd580c2": {
     "id": "6a4bc918-3601-481d-8c6c-60ca7dd580c2",
     "prev": "0a429f9e-18fe-48e8-9f3b-629d0cab76fc",
     "regions": {
      "550bc033-c103-41c5-b60b-2a11a1483204": {
       "attrs": {
        "height": 0.8,
        "width": 0.8,
        "x": 0.1,
        "y": 0.1
       },
       "content": {
        "cell": "18099263-c70b-4810-b86b-dc3cacd2efd1",
        "part": "whole"
       },
       "id": "550bc033-c103-41c5-b60b-2a11a1483204"
      }
     }
    },
    "746b9d2c-8296-49bd-8a51-9ab7b849ae6b": {
     "id": "746b9d2c-8296-49bd-8a51-9ab7b849ae6b",
     "prev": "01dc408f-9077-482b-8f10-9eb2ab2a7591",
     "regions": {
      "d4c199fe-9ddf-4959-8f67-355ec545c6a5": {
       "attrs": {
        "height": 0.8,
        "width": 0.8,
        "x": 0.1,
        "y": 0.1
       },
       "content": {
        "cell": "398d1233-35af-416a-821a-68415430ed1d",
        "part": "whole"
       },
       "id": "d4c199fe-9ddf-4959-8f67-355ec545c6a5"
      }
     }
    },
    "9afa9751-a950-49fc-9976-6ea8986a5345": {
     "id": "9afa9751-a950-49fc-9976-6ea8986a5345",
     "prev": "278d952f-f586-4231-a5f5-2f1e81dcff04",
     "regions": {
      "128a8374-16ec-472e-b730-e42630a3c700": {
       "attrs": {
        "height": 0.8,
        "width": 0.8,
        "x": 0.1,
        "y": 0.1
       },
       "content": {
        "cell": "27d9f21f-590e-45cf-bac7-c3ecd03aee78",
        "part": "whole"
       },
       "id": "128a8374-16ec-472e-b730-e42630a3c700"
      }
     }
    },
    "a54ab306-6ca7-4493-95fa-58a6049bd132": {
     "id": "a54ab306-6ca7-4493-95fa-58a6049bd132",
     "prev": null,
     "regions": {
      "cfa2ce5d-c5ba-4be2-9a02-66a3f006c5aa": {
       "attrs": {
        "height": 0.8,
        "width": 0.8,
        "x": 0.1,
        "y": 0.1
       },
       "content": {
        "cell": "161b52fd-5493-416a-9268-ae218a3f35d3",
        "part": "whole"
       },
       "id": "cfa2ce5d-c5ba-4be2-9a02-66a3f006c5aa"
      }
     }
    },
    "b0e1461d-c0b7-4232-893d-c376cfeb47ed": {
     "id": "b0e1461d-c0b7-4232-893d-c376cfeb47ed",
     "prev": "2af965c0-af3a-4fc0-b98c-c371bff715b7",
     "regions": {
      "e29c5f24-2377-427f-98c8-5e66aafe8e46": {
       "attrs": {
        "height": 0.8,
        "width": 0.8,
        "x": 0.1,
        "y": 0.1
       },
       "content": {
        "cell": "4af92435-a70b-49ea-b8c9-ba5df090b64b",
        "part": "whole"
       },
       "id": "e29c5f24-2377-427f-98c8-5e66aafe8e46"
      }
     }
    },
    "cdabb58b-0836-453b-a110-1f10027e1e7f": {
     "id": "cdabb58b-0836-453b-a110-1f10027e1e7f",
     "prev": "f96f88ef-e86d-4b82-bc72-9660a13140e0",
     "regions": {
      "cb130c5a-dbf8-42c9-82a0-6b779dc5c74a": {
       "attrs": {
        "height": 0.8,
        "width": 0.8,
        "x": 0.1,
        "y": 0.1
       },
       "content": {
        "cell": "78016a9f-8491-4ee1-9858-2b8b6ac31bc7",
        "part": "whole"
       },
       "id": "cb130c5a-dbf8-42c9-82a0-6b779dc5c74a"
      }
     }
    },
    "d68dd2c6-915b-437b-97d5-6e33d0712450": {
     "id": "d68dd2c6-915b-437b-97d5-6e33d0712450",
     "prev": "746b9d2c-8296-49bd-8a51-9ab7b849ae6b",
     "regions": {
      "a2b0b5a4-6add-4ee9-9889-9886e0c0c598": {
       "attrs": {
        "height": 0.8,
        "width": 0.8,
        "x": 0.1,
        "y": 0.1
       },
       "content": {
        "cell": "4af92435-a70b-49ea-b8c9-ba5df090b64b",
        "part": "whole"
       },
       "id": "a2b0b5a4-6add-4ee9-9889-9886e0c0c598"
      }
     }
    },
    "f96f88ef-e86d-4b82-bc72-9660a13140e0": {
     "id": "f96f88ef-e86d-4b82-bc72-9660a13140e0",
     "prev": "9afa9751-a950-49fc-9976-6ea8986a5345",
     "regions": {
      "252baec0-47ed-474e-9a81-4626ec26c5a7": {
       "attrs": {
        "height": 0.8,
        "width": 0.8,
        "x": 0.1,
        "y": 0.1
       },
       "content": {
        "cell": "57d1e4c0-4472-4f09-8d31-37dd8dd2559d",
        "part": "whole"
       },
       "id": "252baec0-47ed-474e-9a81-4626ec26c5a7"
      }
     }
    },
    "fa4d2a41-4a1d-4578-9ca0-e1ff065f914a": {
     "id": "fa4d2a41-4a1d-4578-9ca0-e1ff065f914a",
     "prev": "cdabb58b-0836-453b-a110-1f10027e1e7f",
     "regions": {
      "ef801a07-5cb5-49de-a51e-6e7404f9854e": {
       "attrs": {
        "height": 0.8,
        "width": 0.8,
        "x": 0.1,
        "y": 0.1
       },
       "content": {
        "cell": "f4b6e865-e645-4975-bf29-6e3a04ea5cd8",
        "part": "whole"
       },
       "id": "ef801a07-5cb5-49de-a51e-6e7404f9854e"
      }
     }
    },
    "fef5fda3-ba68-4c7c-bfde-91aa4a2f577d": {
     "id": "fef5fda3-ba68-4c7c-bfde-91aa4a2f577d",
     "prev": "3864df4f-f448-4831-8569-f6ea06315822",
     "regions": {
      "acf88e7a-229c-487e-93ef-b7cadcfba0e9": {
       "attrs": {
        "height": 0.8,
        "width": 0.8,
        "x": 0.1,
        "y": 0.1
       },
       "content": {
        "cell": "56907ddb-f92e-46e8-bde0-0c780e32ea78",
        "part": "whole"
       },
       "id": "acf88e7a-229c-487e-93ef-b7cadcfba0e9"
      }
     }
    }
   },
   "themes": {}
  }
 },
 "nbformat": 4,
 "nbformat_minor": 2
}
